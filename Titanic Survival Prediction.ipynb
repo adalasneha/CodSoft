{
 "cells": [
  {
   "cell_type": "code",
   "execution_count": 5,
   "id": "b42d5750",
   "metadata": {},
   "outputs": [],
   "source": [
    "from pandas import *\n",
    "import numpy as np\n",
    "import matplotlib.pyplot as plt\n",
    "import seaborn as sns\n",
    "from sklearn.model_selection import train_test_split\n",
    "from sklearn.linear_model import LogisticRegression\n",
    "from sklearn.metrics import accuracy_score,classification_report,confusion_matrix"
   ]
  },
  {
   "cell_type": "code",
   "execution_count": 10,
   "id": "24349c3e",
   "metadata": {},
   "outputs": [
    {
     "name": "stdout",
     "output_type": "stream",
     "text": [
      "     PassengerId  Survived  Pclass  \\\n",
      "0            892         0       3   \n",
      "1            893         1       3   \n",
      "2            894         0       2   \n",
      "3            895         0       3   \n",
      "4            896         1       3   \n",
      "..           ...       ...     ...   \n",
      "413         1305         0       3   \n",
      "414         1306         1       1   \n",
      "415         1307         0       3   \n",
      "416         1308         0       3   \n",
      "417         1309         0       3   \n",
      "\n",
      "                                             Name     Sex   Age  SibSp  Parch  \\\n",
      "0                                Kelly, Mr. James    male  34.5      0      0   \n",
      "1                Wilkes, Mrs. James (Ellen Needs)  female  47.0      1      0   \n",
      "2                       Myles, Mr. Thomas Francis    male  62.0      0      0   \n",
      "3                                Wirz, Mr. Albert    male  27.0      0      0   \n",
      "4    Hirvonen, Mrs. Alexander (Helga E Lindqvist)  female  22.0      1      1   \n",
      "..                                            ...     ...   ...    ...    ...   \n",
      "413                            Spector, Mr. Woolf    male   NaN      0      0   \n",
      "414                  Oliva y Ocana, Dona. Fermina  female  39.0      0      0   \n",
      "415                  Saether, Mr. Simon Sivertsen    male  38.5      0      0   \n",
      "416                           Ware, Mr. Frederick    male   NaN      0      0   \n",
      "417                      Peter, Master. Michael J    male   NaN      1      1   \n",
      "\n",
      "                 Ticket      Fare Cabin Embarked  \n",
      "0                330911    7.8292   NaN        Q  \n",
      "1                363272    7.0000   NaN        S  \n",
      "2                240276    9.6875   NaN        Q  \n",
      "3                315154    8.6625   NaN        S  \n",
      "4               3101298   12.2875   NaN        S  \n",
      "..                  ...       ...   ...      ...  \n",
      "413           A.5. 3236    8.0500   NaN        S  \n",
      "414            PC 17758  108.9000  C105        C  \n",
      "415  SOTON/O.Q. 3101262    7.2500   NaN        S  \n",
      "416              359309    8.0500   NaN        S  \n",
      "417                2668   22.3583   NaN        C  \n",
      "\n",
      "[418 rows x 12 columns]\n"
     ]
    }
   ],
   "source": [
    "data=pd.read_csv(r\"C:\\Users\\adala\\Downloads\\archive\\Titanic Survival Prediction.csv\")\n",
    "print(data)"
   ]
  },
  {
   "cell_type": "code",
   "execution_count": 11,
   "id": "7ee07e07",
   "metadata": {},
   "outputs": [
    {
     "data": {
      "text/html": [
       "<div>\n",
       "<style scoped>\n",
       "    .dataframe tbody tr th:only-of-type {\n",
       "        vertical-align: middle;\n",
       "    }\n",
       "\n",
       "    .dataframe tbody tr th {\n",
       "        vertical-align: top;\n",
       "    }\n",
       "\n",
       "    .dataframe thead th {\n",
       "        text-align: right;\n",
       "    }\n",
       "</style>\n",
       "<table border=\"1\" class=\"dataframe\">\n",
       "  <thead>\n",
       "    <tr style=\"text-align: right;\">\n",
       "      <th></th>\n",
       "      <th>PassengerId</th>\n",
       "      <th>Survived</th>\n",
       "      <th>Pclass</th>\n",
       "      <th>Name</th>\n",
       "      <th>Sex</th>\n",
       "      <th>Age</th>\n",
       "      <th>SibSp</th>\n",
       "      <th>Parch</th>\n",
       "      <th>Ticket</th>\n",
       "      <th>Fare</th>\n",
       "      <th>Cabin</th>\n",
       "      <th>Embarked</th>\n",
       "    </tr>\n",
       "  </thead>\n",
       "  <tbody>\n",
       "    <tr>\n",
       "      <th>0</th>\n",
       "      <td>892</td>\n",
       "      <td>0</td>\n",
       "      <td>3</td>\n",
       "      <td>Kelly, Mr. James</td>\n",
       "      <td>male</td>\n",
       "      <td>34.5</td>\n",
       "      <td>0</td>\n",
       "      <td>0</td>\n",
       "      <td>330911</td>\n",
       "      <td>7.8292</td>\n",
       "      <td>NaN</td>\n",
       "      <td>Q</td>\n",
       "    </tr>\n",
       "    <tr>\n",
       "      <th>1</th>\n",
       "      <td>893</td>\n",
       "      <td>1</td>\n",
       "      <td>3</td>\n",
       "      <td>Wilkes, Mrs. James (Ellen Needs)</td>\n",
       "      <td>female</td>\n",
       "      <td>47.0</td>\n",
       "      <td>1</td>\n",
       "      <td>0</td>\n",
       "      <td>363272</td>\n",
       "      <td>7.0000</td>\n",
       "      <td>NaN</td>\n",
       "      <td>S</td>\n",
       "    </tr>\n",
       "    <tr>\n",
       "      <th>2</th>\n",
       "      <td>894</td>\n",
       "      <td>0</td>\n",
       "      <td>2</td>\n",
       "      <td>Myles, Mr. Thomas Francis</td>\n",
       "      <td>male</td>\n",
       "      <td>62.0</td>\n",
       "      <td>0</td>\n",
       "      <td>0</td>\n",
       "      <td>240276</td>\n",
       "      <td>9.6875</td>\n",
       "      <td>NaN</td>\n",
       "      <td>Q</td>\n",
       "    </tr>\n",
       "    <tr>\n",
       "      <th>3</th>\n",
       "      <td>895</td>\n",
       "      <td>0</td>\n",
       "      <td>3</td>\n",
       "      <td>Wirz, Mr. Albert</td>\n",
       "      <td>male</td>\n",
       "      <td>27.0</td>\n",
       "      <td>0</td>\n",
       "      <td>0</td>\n",
       "      <td>315154</td>\n",
       "      <td>8.6625</td>\n",
       "      <td>NaN</td>\n",
       "      <td>S</td>\n",
       "    </tr>\n",
       "    <tr>\n",
       "      <th>4</th>\n",
       "      <td>896</td>\n",
       "      <td>1</td>\n",
       "      <td>3</td>\n",
       "      <td>Hirvonen, Mrs. Alexander (Helga E Lindqvist)</td>\n",
       "      <td>female</td>\n",
       "      <td>22.0</td>\n",
       "      <td>1</td>\n",
       "      <td>1</td>\n",
       "      <td>3101298</td>\n",
       "      <td>12.2875</td>\n",
       "      <td>NaN</td>\n",
       "      <td>S</td>\n",
       "    </tr>\n",
       "  </tbody>\n",
       "</table>\n",
       "</div>"
      ],
      "text/plain": [
       "   PassengerId  Survived  Pclass  \\\n",
       "0          892         0       3   \n",
       "1          893         1       3   \n",
       "2          894         0       2   \n",
       "3          895         0       3   \n",
       "4          896         1       3   \n",
       "\n",
       "                                           Name     Sex   Age  SibSp  Parch  \\\n",
       "0                              Kelly, Mr. James    male  34.5      0      0   \n",
       "1              Wilkes, Mrs. James (Ellen Needs)  female  47.0      1      0   \n",
       "2                     Myles, Mr. Thomas Francis    male  62.0      0      0   \n",
       "3                              Wirz, Mr. Albert    male  27.0      0      0   \n",
       "4  Hirvonen, Mrs. Alexander (Helga E Lindqvist)  female  22.0      1      1   \n",
       "\n",
       "    Ticket     Fare Cabin Embarked  \n",
       "0   330911   7.8292   NaN        Q  \n",
       "1   363272   7.0000   NaN        S  \n",
       "2   240276   9.6875   NaN        Q  \n",
       "3   315154   8.6625   NaN        S  \n",
       "4  3101298  12.2875   NaN        S  "
      ]
     },
     "execution_count": 11,
     "metadata": {},
     "output_type": "execute_result"
    }
   ],
   "source": [
    "data.head()"
   ]
  },
  {
   "cell_type": "code",
   "execution_count": 12,
   "id": "2c3e8793",
   "metadata": {},
   "outputs": [
    {
     "data": {
      "text/html": [
       "<div>\n",
       "<style scoped>\n",
       "    .dataframe tbody tr th:only-of-type {\n",
       "        vertical-align: middle;\n",
       "    }\n",
       "\n",
       "    .dataframe tbody tr th {\n",
       "        vertical-align: top;\n",
       "    }\n",
       "\n",
       "    .dataframe thead th {\n",
       "        text-align: right;\n",
       "    }\n",
       "</style>\n",
       "<table border=\"1\" class=\"dataframe\">\n",
       "  <thead>\n",
       "    <tr style=\"text-align: right;\">\n",
       "      <th></th>\n",
       "      <th>PassengerId</th>\n",
       "      <th>Survived</th>\n",
       "      <th>Pclass</th>\n",
       "      <th>Name</th>\n",
       "      <th>Sex</th>\n",
       "      <th>Age</th>\n",
       "      <th>SibSp</th>\n",
       "      <th>Parch</th>\n",
       "      <th>Ticket</th>\n",
       "      <th>Fare</th>\n",
       "      <th>Cabin</th>\n",
       "      <th>Embarked</th>\n",
       "    </tr>\n",
       "  </thead>\n",
       "  <tbody>\n",
       "    <tr>\n",
       "      <th>413</th>\n",
       "      <td>1305</td>\n",
       "      <td>0</td>\n",
       "      <td>3</td>\n",
       "      <td>Spector, Mr. Woolf</td>\n",
       "      <td>male</td>\n",
       "      <td>NaN</td>\n",
       "      <td>0</td>\n",
       "      <td>0</td>\n",
       "      <td>A.5. 3236</td>\n",
       "      <td>8.0500</td>\n",
       "      <td>NaN</td>\n",
       "      <td>S</td>\n",
       "    </tr>\n",
       "    <tr>\n",
       "      <th>414</th>\n",
       "      <td>1306</td>\n",
       "      <td>1</td>\n",
       "      <td>1</td>\n",
       "      <td>Oliva y Ocana, Dona. Fermina</td>\n",
       "      <td>female</td>\n",
       "      <td>39.0</td>\n",
       "      <td>0</td>\n",
       "      <td>0</td>\n",
       "      <td>PC 17758</td>\n",
       "      <td>108.9000</td>\n",
       "      <td>C105</td>\n",
       "      <td>C</td>\n",
       "    </tr>\n",
       "    <tr>\n",
       "      <th>415</th>\n",
       "      <td>1307</td>\n",
       "      <td>0</td>\n",
       "      <td>3</td>\n",
       "      <td>Saether, Mr. Simon Sivertsen</td>\n",
       "      <td>male</td>\n",
       "      <td>38.5</td>\n",
       "      <td>0</td>\n",
       "      <td>0</td>\n",
       "      <td>SOTON/O.Q. 3101262</td>\n",
       "      <td>7.2500</td>\n",
       "      <td>NaN</td>\n",
       "      <td>S</td>\n",
       "    </tr>\n",
       "    <tr>\n",
       "      <th>416</th>\n",
       "      <td>1308</td>\n",
       "      <td>0</td>\n",
       "      <td>3</td>\n",
       "      <td>Ware, Mr. Frederick</td>\n",
       "      <td>male</td>\n",
       "      <td>NaN</td>\n",
       "      <td>0</td>\n",
       "      <td>0</td>\n",
       "      <td>359309</td>\n",
       "      <td>8.0500</td>\n",
       "      <td>NaN</td>\n",
       "      <td>S</td>\n",
       "    </tr>\n",
       "    <tr>\n",
       "      <th>417</th>\n",
       "      <td>1309</td>\n",
       "      <td>0</td>\n",
       "      <td>3</td>\n",
       "      <td>Peter, Master. Michael J</td>\n",
       "      <td>male</td>\n",
       "      <td>NaN</td>\n",
       "      <td>1</td>\n",
       "      <td>1</td>\n",
       "      <td>2668</td>\n",
       "      <td>22.3583</td>\n",
       "      <td>NaN</td>\n",
       "      <td>C</td>\n",
       "    </tr>\n",
       "  </tbody>\n",
       "</table>\n",
       "</div>"
      ],
      "text/plain": [
       "     PassengerId  Survived  Pclass                          Name     Sex  \\\n",
       "413         1305         0       3            Spector, Mr. Woolf    male   \n",
       "414         1306         1       1  Oliva y Ocana, Dona. Fermina  female   \n",
       "415         1307         0       3  Saether, Mr. Simon Sivertsen    male   \n",
       "416         1308         0       3           Ware, Mr. Frederick    male   \n",
       "417         1309         0       3      Peter, Master. Michael J    male   \n",
       "\n",
       "      Age  SibSp  Parch              Ticket      Fare Cabin Embarked  \n",
       "413   NaN      0      0           A.5. 3236    8.0500   NaN        S  \n",
       "414  39.0      0      0            PC 17758  108.9000  C105        C  \n",
       "415  38.5      0      0  SOTON/O.Q. 3101262    7.2500   NaN        S  \n",
       "416   NaN      0      0              359309    8.0500   NaN        S  \n",
       "417   NaN      1      1                2668   22.3583   NaN        C  "
      ]
     },
     "execution_count": 12,
     "metadata": {},
     "output_type": "execute_result"
    }
   ],
   "source": [
    "data.tail()"
   ]
  },
  {
   "cell_type": "code",
   "execution_count": 13,
   "id": "7dbedd77",
   "metadata": {},
   "outputs": [
    {
     "data": {
      "text/plain": [
       "PassengerId      0\n",
       "Survived         0\n",
       "Pclass           0\n",
       "Name             0\n",
       "Sex              0\n",
       "Age             86\n",
       "SibSp            0\n",
       "Parch            0\n",
       "Ticket           0\n",
       "Fare             1\n",
       "Cabin          327\n",
       "Embarked         0\n",
       "dtype: int64"
      ]
     },
     "execution_count": 13,
     "metadata": {},
     "output_type": "execute_result"
    }
   ],
   "source": [
    "data.isnull().sum()"
   ]
  },
  {
   "cell_type": "code",
   "execution_count": 14,
   "id": "71b744db",
   "metadata": {},
   "outputs": [
    {
     "name": "stdout",
     "output_type": "stream",
     "text": [
      "<class 'pandas.core.frame.DataFrame'>\n",
      "RangeIndex: 418 entries, 0 to 417\n",
      "Data columns (total 12 columns):\n",
      " #   Column       Non-Null Count  Dtype  \n",
      "---  ------       --------------  -----  \n",
      " 0   PassengerId  418 non-null    int64  \n",
      " 1   Survived     418 non-null    int64  \n",
      " 2   Pclass       418 non-null    int64  \n",
      " 3   Name         418 non-null    object \n",
      " 4   Sex          418 non-null    object \n",
      " 5   Age          332 non-null    float64\n",
      " 6   SibSp        418 non-null    int64  \n",
      " 7   Parch        418 non-null    int64  \n",
      " 8   Ticket       418 non-null    object \n",
      " 9   Fare         417 non-null    float64\n",
      " 10  Cabin        91 non-null     object \n",
      " 11  Embarked     418 non-null    object \n",
      "dtypes: float64(2), int64(5), object(5)\n",
      "memory usage: 39.3+ KB\n"
     ]
    }
   ],
   "source": [
    "data.info()"
   ]
  },
  {
   "cell_type": "code",
   "execution_count": 15,
   "id": "32ff3640",
   "metadata": {},
   "outputs": [
    {
     "name": "stdout",
     "output_type": "stream",
     "text": [
      "     PassengerId  Survived  Pclass                                                             Name     Sex   Age  SibSp  Parch         Ticket      Fare            Cabin Embarked\n",
      "12           904         1       1                    Snyder, Mrs. John Pillsbury (Nelle Stevenson)  female  23.0      1      0          21228   82.2667              B45        S\n",
      "14           906         1       1          Chaffee, Mrs. Herbert Fuller (Carrie Constance Toogood)  female  47.0      1      0    W.E.P. 5734   61.1750              E31        S\n",
      "24           916         1       1                  Ryerson, Mrs. Arthur Larned (Emily Maria Borie)  female  48.0      1      3       PC 17608  262.3750  B57 B59 B63 B66        C\n",
      "26           918         1       1                                     Ostby, Miss. Helene Ragnhild  female  22.0      0      1         113509   61.9792              B36        C\n",
      "28           920         0       1                                          Brady, Mr. John Bertram    male  41.0      0      0         113054   30.5000              A21        S\n",
      "34           926         0       1                                         Mock, Mr. Philipp Edmund    male  30.0      1      0          13236   57.7500              C78        C\n",
      "44           936         1       1                 Kimball, Mrs. Edwin Nelson Jr (Gertrude Parsons)  female  45.0      1      0          11753   52.5542              D19        S\n",
      "46           938         0       1                                         Chevre, Mr. Paul Romaine    male  45.0      0      0       PC 17594   29.7000               A9        C\n",
      "48           940         1       1                  Bucknell, Mrs. William Robert (Emma Eliza Ward)  female  60.0      0      0          11813   76.2917              D15        C\n",
      "50           942         0       1                                         Smith, Mr. Lucien Philip    male  24.0      1      0          13695   60.0000              C31        S\n",
      "53           945         1       1                                       Fortune, Miss. Ethel Flora  female  28.0      3      2          19950  263.0000      C23 C25 C27        S\n",
      "57           949         0       3                                    Abelseth, Mr. Olaus Jorgensen    male  25.0      0      0         348122    7.6500            F G63        S\n",
      "59           951         1       1                                      Chaudanson, Miss. Victorine  female  36.0      0      0       PC 17608  262.3750              B61        C\n",
      "64           956         0       1                                      Ryerson, Master. John Borie    male  13.0      2      2       PC 17608  262.3750  B57 B59 B63 B66        C\n",
      "68           960         0       1                                  Tucker, Mr. Gilbert Milligan Jr    male  31.0      0      0           2543   28.5375              C53        C\n",
      "69           961         1       1                              Fortune, Mrs. Mark (Mary McDougald)  female  60.0      1      4          19950  263.0000      C23 C25 C27        S\n",
      "73           965         0       1                                  Ovies y Rodriguez, Mr. Servando    male  28.5      0      0       PC 17562   27.7208              D43        C\n",
      "74           966         1       1                                             Geiger, Miss. Amalie  female  35.0      0      0         113503  211.5000             C130        C\n",
      "75           967         0       1                                               Keeping, Mr. Edwin    male  32.5      0      0         113503  211.5000             C132        C\n",
      "77           969         1       1             Cornell, Mrs. Robert Clifford (Malvina Helen Lamson)  female  55.0      2      0          11770   25.7000             C101        S\n",
      "81           973         0       1                                               Straus, Mr. Isidor    male  67.0      1      0       PC 17483  221.7792          C55 C57        S\n",
      "92           984         1       1                             Davidson, Mrs. Thornton (Orian Hays)  female  27.0      1      2     F.C. 12750   52.0000              B71        S\n",
      "96           988         1       1           Cavendish, Mrs. Tyrell William (Julia Florence Siegel)  female  76.0      1      0          19877   78.8500              C46        S\n",
      "100          992         1       1              Stengel, Mrs. Charles Emil Henry (Annie May Morris)  female  43.0      1      0          11778   55.4417             C116        C\n",
      "109         1001         0       2                                                Swane, Mr. George    male  18.5      0      0         248734   13.0000                F        S\n",
      "112         1004         1       1                                         Evans, Miss. Edith Corse  female  36.0      0      0       PC 17531   31.6792              A29        C\n",
      "114         1006         1       1                           Straus, Mrs. Isidor (Rosalie Ida Blun)  female  63.0      1      0       PC 17483  221.7792          C55 C57        S\n",
      "117         1009         1       3                                  Sandstrom, Miss. Beatrice Irene  female   1.0      1      1        PP 9549   16.7000               G6        S\n",
      "118         1010         0       1                                             Beattie, Mr. Thomson    male  36.0      0      0          13050   75.2417               C6        C\n",
      "122         1014         1       1                                  Schabert, Mrs. Paul (Emma Mock)  female  35.0      1      0          13236   57.7500              C28        C\n",
      "131         1023         0       1                                        Gracie, Col. Archibald IV    male  53.0      0      0         113780   28.5000              C51        C\n",
      "142         1034         0       1                                       Ryerson, Mr. Arthur Larned    male  61.0      1      3       PC 17608  262.3750  B57 B59 B63 B66        C\n",
      "150         1042         1       1                            Earnshaw, Mrs. Boulton (Olive Potter)  female  23.0      0      1          11767   83.1583              C54        C\n",
      "156         1048         1       1                                                Bird, Miss. Ellen  female  29.0      0      0       PC 17483  221.7792              C97        S\n",
      "158         1050         0       1                                         Borebank, Mr. John James    male  42.0      0      0         110489   26.5500              D22        S\n",
      "166         1058         0       1                                               Brandeis, Mr. Emil    male  48.0      0      0       PC 17591   50.4958              B10        C\n",
      "177         1069         0       1                                  Stengel, Mr. Charles Emil Henry    male  54.0      1      0          11778   55.4417             C116        C\n",
      "178         1070         1       2                 Becker, Mrs. Allen Oliver (Nellie E Baumgardner)  female  36.0      0      3         230136   39.0000               F4        S\n",
      "179         1071         1       1            Compton, Mrs. Alexander Taylor (Mary Eliza Ingersoll)  female  64.0      0      2       PC 17756   83.1583              E45        C\n",
      "181         1073         0       1                                 Compton, Mr. Alexander Taylor Jr    male  37.0      1      1       PC 17756   83.1583              E52        C\n",
      "182         1074         1       1   Marvin, Mrs. Daniel Warner (Mary Graham Carmichael Farquarson)  female  18.0      1      0         113773   53.1000              D30        S\n",
      "184         1076         1       1             Douglas, Mrs. Frederick Charles (Mary Helene Baxter)  female  27.0      1      1       PC 17558  247.5208          B58 B60        C\n",
      "196         1088         0       1                                  Spedden, Master. Robert Douglas    male   6.0      0      2          16966  134.5000              E34        C\n",
      "202         1094         0       1                                           Astor, Col. John Jacob    male  47.0      1      0       PC 17757  227.5250          C62 C64        C\n",
      "208         1100         1       1                                    Rosenbaum, Miss. Edith Louise  female  33.0      0      0       PC 17613   27.7208              A11        C\n",
      "215         1107         0       1                                            Head, Mr. Christopher    male  42.0      0      0         113038   42.5000              B11        S\n",
      "218         1110         1       1                     Widener, Mrs. George Dunton (Eleanor Elkins)  female  50.0      1      1         113503  211.5000              C80        C\n",
      "222         1114         1       2                                       Cook, Mrs. (Selena Rogers)  female  22.0      0      0    W./C. 14266   10.5000              F33        S\n",
      "234         1126         0       1                                        Cumings, Mr. John Bradley    male  39.0      1      0       PC 17599   71.2833              C85        C\n",
      "236         1128         0       1                                         Warren, Mr. Frank Manley    male  64.0      1      0         110813   75.2500              D37        C\n",
      "239         1131         1       1                      Douglas, Mrs. Walter Donald (Mahala Dutton)  female  48.0      1      0       PC 17761  106.4250              C86        C\n",
      "242         1134         0       1                                     Spedden, Mr. Frederic Oakley    male  45.0      1      1          16966  134.5000              E34        C\n",
      "245         1137         0       1                                          Kenyon, Mr. Frederick R    male  41.0      1      0          17464   51.8625              D21        S\n",
      "252         1144         0       1                                         Clark, Mr. Walter Miller    male  27.0      1      0          13508  136.7792              C89        C\n",
      "270         1162         0       1                                     McCaffry, Mr. Thomas Francis    male  46.0      0      0          13050   75.2417               C6        C\n",
      "272         1164         1       1                    Clark, Mrs. Walter Miller (Virginia McDowell)  female  26.0      1      0          13508  136.7792              C89        C\n",
      "287         1179         0       1                                       Snyder, Mr. John Pillsbury    male  24.0      1      0          21228   82.2667              B45        S\n",
      "293         1185         0       1                                            Dodge, Dr. Washington    male  53.0      1      1          33638   81.8583              A34        S\n",
      "305         1197         1       1       Crosby, Mrs. Edward Gifford (Catherine Elizabeth Halstead)  female  64.0      1      1         112901   26.5500              B26        S\n",
      "306         1198         0       1                             Allison, Mr. Hudson Joshua Creighton    male  30.0      1      2         113781  151.5500          C22 C26        S\n",
      "308         1200         0       1                                       Hays, Mr. Charles Melville    male  55.0      1      1          12749   93.5000              B69        S\n",
      "314         1206         1       1                            White, Mrs. John Stuart (Ella Holmes)  female  55.0      0      0       PC 17760  135.6333              C32        C\n",
      "316         1208         0       1                                    Spencer, Mr. William Augustus    male  57.0      1      0       PC 17569  146.5208              B78        C\n",
      "321         1213         0       3                                            Krekorian, Mr. Neshan    male  25.0      0      0           2654    7.2292            F E57        C\n",
      "322         1214         0       2                                               Nesson, Mr. Israel    male  26.0      0      0         244368   13.0000               F2        S\n",
      "326         1218         1       2                                     Becker, Miss. Ruth Elizabeth  female  12.0      2      1         230136   39.0000               F4        S\n",
      "331         1223         0       1                                     Dulles, Mr. William Crothers    male  39.0      0      0       PC 17580   29.7000              A18        C\n",
      "335         1227         0       1                                         Maguire, Mr. John Edward    male  30.0      0      0         110469   26.0000             C106        S\n",
      "343         1235         1       1  Cardeza, Mrs. James Warburton Martinez (Charlotte Wardle Drake)  female  58.0      0      1       PC 17755  512.3292      B51 B53 B55        C\n",
      "350         1242         1       1                     Greenfield, Mrs. Leo David (Blanche Strouse)  female  45.0      0      1       PC 17759   63.3583          D10 D12        C\n",
      "355         1247         0       1                                         Julian, Mr. Henry Forbes    male  50.0      0      0         113044   26.0000              E60        S\n",
      "356         1248         1       1                   Brown, Mrs. John Murray (Caroline Lane Lamson)  female  59.0      2      0          11769   51.4792             C101        S\n",
      "364         1256         1       1                     Harder, Mrs. George Achilles (Dorothy Annan)  female  25.0      1      0          11765   55.4417              E50        C\n",
      "371         1263         1       1                                        Wilson, Miss. Helen Alice  female  31.0      0      0          16966  134.5000          E39 E41        C\n",
      "372         1264         0       1                                          Ismay, Mr. Joseph Bruce    male  49.0      0      0         112058    0.0000      B52 B54 B56        S\n",
      "374         1266         1       1                            Dodge, Mrs. Washington (Ruth Vidaver)  female  54.0      1      1          33638   81.8583              A34        S\n",
      "378         1270         0       1                                      Hipkins, Mr. William Edward    male  55.0      0      0            680   50.0000              C39        S\n",
      "390         1282         0       1                                       Payne, Mr. Vivian Ponsonby    male  23.0      0      0          12749   93.5000              B24        S\n",
      "391         1283         1       1                   Lines, Mrs. Ernest H (Elizabeth Lindsey James)  female  51.0      0      1       PC 17592   39.4000              D28        S\n",
      "395         1287         1       1                   Smith, Mrs. Lucien Philip (Mary Eloise Hughes)  female  18.0      1      0          13695   60.0000              C31        S\n",
      "397         1289         1       1  Frolicher-Stehli, Mrs. Maxmillian (Margaretha Emerentia Stehli)  female  48.0      1      1          13567   79.2000              B41        C\n",
      "400         1292         1       1                                          Bonnell, Miss. Caroline  female  30.0      0      0          36928  164.8667               C7        S\n",
      "404         1296         0       1                                     Frauenthal, Mr. Isaac Gerald    male  43.0      1      0          17765   27.7208              D40        C\n",
      "405         1297         0       2                     Nourney, Mr. Alfred (Baron von Drachstedt\")\"    male  20.0      0      0  SC/PARIS 2166   13.8625              D38        C\n",
      "407         1299         0       1                                       Widener, Mr. George Dunton    male  50.0      1      1         113503  211.5000              C80        C\n",
      "411         1303         1       1                  Minahan, Mrs. William Edward (Lillian E Thorpe)  female  37.0      1      0          19928   90.0000              C78        Q\n",
      "414         1306         1       1                                     Oliva y Ocana, Dona. Fermina  female  39.0      0      0       PC 17758  108.9000             C105        C\n"
     ]
    }
   ],
   "source": [
    "new_data=data.dropna()\n",
    "print(new_data.to_string())"
   ]
  },
  {
   "cell_type": "code",
   "execution_count": 16,
   "id": "a4f325d2",
   "metadata": {},
   "outputs": [
    {
     "data": {
      "text/plain": [
       "PassengerId    0\n",
       "Survived       0\n",
       "Pclass         0\n",
       "Name           0\n",
       "Sex            0\n",
       "Age            0\n",
       "SibSp          0\n",
       "Parch          0\n",
       "Ticket         0\n",
       "Fare           0\n",
       "Cabin          0\n",
       "Embarked       0\n",
       "dtype: int64"
      ]
     },
     "execution_count": 16,
     "metadata": {},
     "output_type": "execute_result"
    }
   ],
   "source": [
    "new_data.isnull().sum()"
   ]
  },
  {
   "cell_type": "code",
   "execution_count": 17,
   "id": "ab576e95",
   "metadata": {},
   "outputs": [
    {
     "data": {
      "text/html": [
       "<div>\n",
       "<style scoped>\n",
       "    .dataframe tbody tr th:only-of-type {\n",
       "        vertical-align: middle;\n",
       "    }\n",
       "\n",
       "    .dataframe tbody tr th {\n",
       "        vertical-align: top;\n",
       "    }\n",
       "\n",
       "    .dataframe thead th {\n",
       "        text-align: right;\n",
       "    }\n",
       "</style>\n",
       "<table border=\"1\" class=\"dataframe\">\n",
       "  <thead>\n",
       "    <tr style=\"text-align: right;\">\n",
       "      <th></th>\n",
       "      <th>PassengerId</th>\n",
       "      <th>Survived</th>\n",
       "      <th>Pclass</th>\n",
       "      <th>Age</th>\n",
       "      <th>SibSp</th>\n",
       "      <th>Parch</th>\n",
       "      <th>Fare</th>\n",
       "    </tr>\n",
       "  </thead>\n",
       "  <tbody>\n",
       "    <tr>\n",
       "      <th>count</th>\n",
       "      <td>87.000000</td>\n",
       "      <td>87.000000</td>\n",
       "      <td>87.000000</td>\n",
       "      <td>87.000000</td>\n",
       "      <td>87.000000</td>\n",
       "      <td>87.000000</td>\n",
       "      <td>87.000000</td>\n",
       "    </tr>\n",
       "    <tr>\n",
       "      <th>mean</th>\n",
       "      <td>1102.712644</td>\n",
       "      <td>0.505747</td>\n",
       "      <td>1.137931</td>\n",
       "      <td>39.247126</td>\n",
       "      <td>0.597701</td>\n",
       "      <td>0.482759</td>\n",
       "      <td>98.109198</td>\n",
       "    </tr>\n",
       "    <tr>\n",
       "      <th>std</th>\n",
       "      <td>126.751901</td>\n",
       "      <td>0.502865</td>\n",
       "      <td>0.435954</td>\n",
       "      <td>15.218730</td>\n",
       "      <td>0.637214</td>\n",
       "      <td>0.860801</td>\n",
       "      <td>88.177319</td>\n",
       "    </tr>\n",
       "    <tr>\n",
       "      <th>min</th>\n",
       "      <td>904.000000</td>\n",
       "      <td>0.000000</td>\n",
       "      <td>1.000000</td>\n",
       "      <td>1.000000</td>\n",
       "      <td>0.000000</td>\n",
       "      <td>0.000000</td>\n",
       "      <td>0.000000</td>\n",
       "    </tr>\n",
       "    <tr>\n",
       "      <th>25%</th>\n",
       "      <td>986.000000</td>\n",
       "      <td>0.000000</td>\n",
       "      <td>1.000000</td>\n",
       "      <td>27.000000</td>\n",
       "      <td>0.000000</td>\n",
       "      <td>0.000000</td>\n",
       "      <td>35.339600</td>\n",
       "    </tr>\n",
       "    <tr>\n",
       "      <th>50%</th>\n",
       "      <td>1094.000000</td>\n",
       "      <td>1.000000</td>\n",
       "      <td>1.000000</td>\n",
       "      <td>39.000000</td>\n",
       "      <td>1.000000</td>\n",
       "      <td>0.000000</td>\n",
       "      <td>71.283300</td>\n",
       "    </tr>\n",
       "    <tr>\n",
       "      <th>75%</th>\n",
       "      <td>1216.000000</td>\n",
       "      <td>1.000000</td>\n",
       "      <td>1.000000</td>\n",
       "      <td>50.000000</td>\n",
       "      <td>1.000000</td>\n",
       "      <td>1.000000</td>\n",
       "      <td>135.066650</td>\n",
       "    </tr>\n",
       "    <tr>\n",
       "      <th>max</th>\n",
       "      <td>1306.000000</td>\n",
       "      <td>1.000000</td>\n",
       "      <td>3.000000</td>\n",
       "      <td>76.000000</td>\n",
       "      <td>3.000000</td>\n",
       "      <td>4.000000</td>\n",
       "      <td>512.329200</td>\n",
       "    </tr>\n",
       "  </tbody>\n",
       "</table>\n",
       "</div>"
      ],
      "text/plain": [
       "       PassengerId   Survived     Pclass        Age      SibSp      Parch  \\\n",
       "count    87.000000  87.000000  87.000000  87.000000  87.000000  87.000000   \n",
       "mean   1102.712644   0.505747   1.137931  39.247126   0.597701   0.482759   \n",
       "std     126.751901   0.502865   0.435954  15.218730   0.637214   0.860801   \n",
       "min     904.000000   0.000000   1.000000   1.000000   0.000000   0.000000   \n",
       "25%     986.000000   0.000000   1.000000  27.000000   0.000000   0.000000   \n",
       "50%    1094.000000   1.000000   1.000000  39.000000   1.000000   0.000000   \n",
       "75%    1216.000000   1.000000   1.000000  50.000000   1.000000   1.000000   \n",
       "max    1306.000000   1.000000   3.000000  76.000000   3.000000   4.000000   \n",
       "\n",
       "             Fare  \n",
       "count   87.000000  \n",
       "mean    98.109198  \n",
       "std     88.177319  \n",
       "min      0.000000  \n",
       "25%     35.339600  \n",
       "50%     71.283300  \n",
       "75%    135.066650  \n",
       "max    512.329200  "
      ]
     },
     "execution_count": 17,
     "metadata": {},
     "output_type": "execute_result"
    }
   ],
   "source": [
    "new_data.describe()"
   ]
  },
  {
   "cell_type": "code",
   "execution_count": 19,
   "id": "bb79b44f",
   "metadata": {},
   "outputs": [
    {
     "data": {
      "text/plain": [
       "Survived\n",
       "0    266\n",
       "1    152\n",
       "Name: count, dtype: int64"
      ]
     },
     "execution_count": 19,
     "metadata": {},
     "output_type": "execute_result"
    }
   ],
   "source": [
    "data['Survived'].value_counts()\n"
   ]
  },
  {
   "cell_type": "code",
   "execution_count": 20,
   "id": "365664ce",
   "metadata": {},
   "outputs": [],
   "source": [
    "sns.set()"
   ]
  },
  {
   "cell_type": "code",
   "execution_count": 21,
   "id": "f26d3372",
   "metadata": {},
   "outputs": [
    {
     "data": {
      "text/plain": [
       "<Axes: xlabel='Survived', ylabel='count'>"
      ]
     },
     "execution_count": 21,
     "metadata": {},
     "output_type": "execute_result"
    },
    {
     "data": {
      "image/png": "[encoded data removed]",
      "text/plain": [
       "<Figure size 640x480 with 1 Axes>"
      ]
     },
     "metadata": {},
     "output_type": "display_data"
    }
   ],
   "source": [
    "sns.countplot(x='Survived',data=data)"
   ]
  },
  {
   "cell_type": "code",
   "execution_count": 22,
   "id": "d93733d5",
   "metadata": {},
   "outputs": [
    {
     "data": {
      "text/plain": [
       "<Axes: xlabel='Survived', ylabel='count'>"
      ]
     },
     "execution_count": 22,
     "metadata": {},
     "output_type": "execute_result"
    },
    {
     "data": {
      "image/png": "[encoded data removed]",
      "text/plain": [
       "<Figure size 640x480 with 1 Axes>"
      ]
     },
     "metadata": {},
     "output_type": "display_data"
    }
   ],
   "source": [
    "sns.countplot(x='Survived',hue='Sex',data=data,palette='winter')"
   ]
  },
  {
   "cell_type": "code",
   "execution_count": 23,
   "id": "b9c7845e",
   "metadata": {},
   "outputs": [
    {
     "data": {
      "text/plain": [
       "<Axes: xlabel='Survived', ylabel='count'>"
      ]
     },
     "execution_count": 23,
     "metadata": {},
     "output_type": "execute_result"
    },
    {
     "data": {
      "image/png": "[encoded data removed]",
      "text/plain": [
       "<Figure size 640x480 with 1 Axes>"
      ]
     },
     "metadata": {},
     "output_type": "display_data"
    }
   ],
   "source": [
    "sns.countplot(x='Survived',hue='Pclass',data=data,palette='PuBu')"
   ]
  },
  {
   "cell_type": "code",
   "execution_count": 24,
   "id": "62e7c84b",
   "metadata": {},
   "outputs": [
    {
     "data": {
      "text/plain": [
       "<Axes: ylabel='Frequency'>"
      ]
     },
     "execution_count": 24,
     "metadata": {},
     "output_type": "execute_result"
    },
    {
     "data": {
      "image/png": "[encoded data removed]",
      "text/plain": [
       "<Figure size 640x480 with 1 Axes>"
      ]
     },
     "metadata": {},
     "output_type": "display_data"
    }
   ],
   "source": [
    "data['Age'].plot.hist()"
   ]
  },
  {
   "cell_type": "code",
   "execution_count": 25,
   "id": "37642f79",
   "metadata": {},
   "outputs": [
    {
     "data": {
      "text/plain": [
       "<Axes: ylabel='Frequency'>"
      ]
     },
     "execution_count": 25,
     "metadata": {},
     "output_type": "execute_result"
    },
    {
     "data": {
      "image/png": "[encoded data removed]",
      "text/plain": [
       "<Figure size 1000x500 with 1 Axes>"
      ]
     },
     "metadata": {},
     "output_type": "display_data"
    }
   ],
   "source": [
    "data['Fare'].plot.hist(bins=20, figsize=(10,5))"
   ]
  },
  {
   "cell_type": "code",
   "execution_count": 26,
   "id": "2a7465ae",
   "metadata": {},
   "outputs": [
    {
     "data": {
      "text/plain": [
       "<Axes: xlabel='SibSp', ylabel='count'>"
      ]
     },
     "execution_count": 26,
     "metadata": {},
     "output_type": "execute_result"
    },
    {
     "data": {
      "image/png": "[encoded data removed]",
      "text/plain": [
       "<Figure size 640x480 with 1 Axes>"
      ]
     },
     "metadata": {},
     "output_type": "display_data"
    }
   ],
   "source": [
    "sns.countplot(x='SibSp', data=data, palette='rocket')"
   ]
  },
  {
   "cell_type": "code",
   "execution_count": 27,
   "id": "c8ebd086",
   "metadata": {},
   "outputs": [
    {
     "data": {
      "text/plain": [
       "<Axes: ylabel='Frequency'>"
      ]
     },
     "execution_count": 27,
     "metadata": {},
     "output_type": "execute_result"
    },
    {
     "data": {
      "image/png": "[encoded data removed]",
      "text/plain": [
       "<Figure size 640x480 with 1 Axes>"
      ]
     },
     "metadata": {},
     "output_type": "display_data"
    }
   ],
   "source": [
    "data['Parch'].plot.hist()"
   ]
  },
  {
   "cell_type": "code",
   "execution_count": 29,
   "id": "8d80c4de",
   "metadata": {},
   "outputs": [],
   "source": [
    "new_data.replace({'Sex':{'male':0,'female':1},'Embarked':{'S':0,'C':1,'Q':2}},inplace=True)"
   ]
  },
  {
   "cell_type": "code",
   "execution_count": 30,
   "id": "a25ebac5",
   "metadata": {},
   "outputs": [
    {
     "data": {
      "text/html": [
       "<div>\n",
       "<style scoped>\n",
       "    .dataframe tbody tr th:only-of-type {\n",
       "        vertical-align: middle;\n",
       "    }\n",
       "\n",
       "    .dataframe tbody tr th {\n",
       "        vertical-align: top;\n",
       "    }\n",
       "\n",
       "    .dataframe thead th {\n",
       "        text-align: right;\n",
       "    }\n",
       "</style>\n",
       "<table border=\"1\" class=\"dataframe\">\n",
       "  <thead>\n",
       "    <tr style=\"text-align: right;\">\n",
       "      <th></th>\n",
       "      <th>PassengerId</th>\n",
       "      <th>Survived</th>\n",
       "      <th>Pclass</th>\n",
       "      <th>Name</th>\n",
       "      <th>Sex</th>\n",
       "      <th>Age</th>\n",
       "      <th>SibSp</th>\n",
       "      <th>Parch</th>\n",
       "      <th>Ticket</th>\n",
       "      <th>Fare</th>\n",
       "      <th>Cabin</th>\n",
       "      <th>Embarked</th>\n",
       "    </tr>\n",
       "  </thead>\n",
       "  <tbody>\n",
       "    <tr>\n",
       "      <th>12</th>\n",
       "      <td>904</td>\n",
       "      <td>1</td>\n",
       "      <td>1</td>\n",
       "      <td>Snyder, Mrs. John Pillsbury (Nelle Stevenson)</td>\n",
       "      <td>1</td>\n",
       "      <td>23.0</td>\n",
       "      <td>1</td>\n",
       "      <td>0</td>\n",
       "      <td>21228</td>\n",
       "      <td>82.2667</td>\n",
       "      <td>B45</td>\n",
       "      <td>0</td>\n",
       "    </tr>\n",
       "    <tr>\n",
       "      <th>14</th>\n",
       "      <td>906</td>\n",
       "      <td>1</td>\n",
       "      <td>1</td>\n",
       "      <td>Chaffee, Mrs. Herbert Fuller (Carrie Constance...</td>\n",
       "      <td>1</td>\n",
       "      <td>47.0</td>\n",
       "      <td>1</td>\n",
       "      <td>0</td>\n",
       "      <td>W.E.P. 5734</td>\n",
       "      <td>61.1750</td>\n",
       "      <td>E31</td>\n",
       "      <td>0</td>\n",
       "    </tr>\n",
       "    <tr>\n",
       "      <th>24</th>\n",
       "      <td>916</td>\n",
       "      <td>1</td>\n",
       "      <td>1</td>\n",
       "      <td>Ryerson, Mrs. Arthur Larned (Emily Maria Borie)</td>\n",
       "      <td>1</td>\n",
       "      <td>48.0</td>\n",
       "      <td>1</td>\n",
       "      <td>3</td>\n",
       "      <td>PC 17608</td>\n",
       "      <td>262.3750</td>\n",
       "      <td>B57 B59 B63 B66</td>\n",
       "      <td>1</td>\n",
       "    </tr>\n",
       "    <tr>\n",
       "      <th>26</th>\n",
       "      <td>918</td>\n",
       "      <td>1</td>\n",
       "      <td>1</td>\n",
       "      <td>Ostby, Miss. Helene Ragnhild</td>\n",
       "      <td>1</td>\n",
       "      <td>22.0</td>\n",
       "      <td>0</td>\n",
       "      <td>1</td>\n",
       "      <td>113509</td>\n",
       "      <td>61.9792</td>\n",
       "      <td>B36</td>\n",
       "      <td>1</td>\n",
       "    </tr>\n",
       "    <tr>\n",
       "      <th>28</th>\n",
       "      <td>920</td>\n",
       "      <td>0</td>\n",
       "      <td>1</td>\n",
       "      <td>Brady, Mr. John Bertram</td>\n",
       "      <td>0</td>\n",
       "      <td>41.0</td>\n",
       "      <td>0</td>\n",
       "      <td>0</td>\n",
       "      <td>113054</td>\n",
       "      <td>30.5000</td>\n",
       "      <td>A21</td>\n",
       "      <td>0</td>\n",
       "    </tr>\n",
       "  </tbody>\n",
       "</table>\n",
       "</div>"
      ],
      "text/plain": [
       "    PassengerId  Survived  Pclass  \\\n",
       "12          904         1       1   \n",
       "14          906         1       1   \n",
       "24          916         1       1   \n",
       "26          918         1       1   \n",
       "28          920         0       1   \n",
       "\n",
       "                                                 Name  Sex   Age  SibSp  \\\n",
       "12      Snyder, Mrs. John Pillsbury (Nelle Stevenson)    1  23.0      1   \n",
       "14  Chaffee, Mrs. Herbert Fuller (Carrie Constance...    1  47.0      1   \n",
       "24    Ryerson, Mrs. Arthur Larned (Emily Maria Borie)    1  48.0      1   \n",
       "26                       Ostby, Miss. Helene Ragnhild    1  22.0      0   \n",
       "28                            Brady, Mr. John Bertram    0  41.0      0   \n",
       "\n",
       "    Parch       Ticket      Fare            Cabin  Embarked  \n",
       "12      0        21228   82.2667              B45         0  \n",
       "14      0  W.E.P. 5734   61.1750              E31         0  \n",
       "24      3     PC 17608  262.3750  B57 B59 B63 B66         1  \n",
       "26      1       113509   61.9792              B36         1  \n",
       "28      0       113054   30.5000              A21         0  "
      ]
     },
     "execution_count": 30,
     "metadata": {},
     "output_type": "execute_result"
    }
   ],
   "source": [
    "new_data.head()"
   ]
  },
  {
   "cell_type": "code",
   "execution_count": 31,
   "id": "aabdec40",
   "metadata": {},
   "outputs": [],
   "source": [
    "X=new_data.drop(columns=['PassengerId','Name','Ticket','Survived','Cabin'],axis=1)\n",
    "Y=new_data['Survived']"
   ]
  },
  {
   "cell_type": "code",
   "execution_count": 32,
   "id": "dccb0a22",
   "metadata": {},
   "outputs": [
    {
     "name": "stdout",
     "output_type": "stream",
     "text": [
      "     Pclass  Sex   Age  SibSp  Parch      Fare  Embarked\n",
      "12        1    1  23.0      1      0   82.2667         0\n",
      "14        1    1  47.0      1      0   61.1750         0\n",
      "24        1    1  48.0      1      3  262.3750         1\n",
      "26        1    1  22.0      0      1   61.9792         1\n",
      "28        1    0  41.0      0      0   30.5000         0\n",
      "..      ...  ...   ...    ...    ...       ...       ...\n",
      "404       1    0  43.0      1      0   27.7208         1\n",
      "405       2    0  20.0      0      0   13.8625         1\n",
      "407       1    0  50.0      1      1  211.5000         1\n",
      "411       1    1  37.0      1      0   90.0000         2\n",
      "414       1    1  39.0      0      0  108.9000         1\n",
      "\n",
      "[87 rows x 7 columns]\n"
     ]
    }
   ],
   "source": [
    "print(X)"
   ]
  },
  {
   "cell_type": "code",
   "execution_count": 33,
   "id": "f74b9c4f",
   "metadata": {},
   "outputs": [
    {
     "name": "stdout",
     "output_type": "stream",
     "text": [
      "12     1\n",
      "14     1\n",
      "24     1\n",
      "26     1\n",
      "28     0\n",
      "      ..\n",
      "404    0\n",
      "405    0\n",
      "407    0\n",
      "411    1\n",
      "414    1\n",
      "Name: Survived, Length: 87, dtype: int64\n"
     ]
    }
   ],
   "source": [
    "print(Y)"
   ]
  },
  {
   "cell_type": "code",
   "execution_count": 34,
   "id": "3ac7dc4c",
   "metadata": {},
   "outputs": [
    {
     "name": "stdout",
     "output_type": "stream",
     "text": [
      "(87, 7) (69, 7) (18, 7)\n"
     ]
    }
   ],
   "source": [
    "X_train, X_test, Y_train, Y_test = train_test_split(X,Y,test_size=0.2, random_state=2)\n",
    "print(X.shape, X_train.shape, X_test.shape)"
   ]
  },
  {
   "cell_type": "code",
   "execution_count": 35,
   "id": "d75758f0",
   "metadata": {},
   "outputs": [
    {
     "data": {
      "text/html": [
       "<style>#sk-container-id-1 {color: black;}#sk-container-id-1 pre{padding: 0;}#sk-container-id-1 div.sk-toggleable {background-color: white;}#sk-container-id-1 label.sk-toggleable__label {cursor: pointer;display: block;width: 100%;margin-bottom: 0;padding: 0.3em;box-sizing: border-box;text-align: center;}#sk-container-id-1 label.sk-toggleable__label-arrow:before {content: \"▸\";float: left;margin-right: 0.25em;color: #696969;}#sk-container-id-1 label.sk-toggleable__label-arrow:hover:before {color: black;}#sk-container-id-1 div.sk-estimator:hover label.sk-toggleable__label-arrow:before {color: black;}#sk-container-id-1 div.sk-toggleable__content {max-height: 0;max-width: 0;overflow: hidden;text-align: left;background-color: #f0f8ff;}#sk-container-id-1 div.sk-toggleable__content pre {margin: 0.2em;color: black;border-radius: 0.25em;background-color: #f0f8ff;}#sk-container-id-1 input.sk-toggleable__control:checked~div.sk-toggleable__content {max-height: 200px;max-width: 100%;overflow: auto;}#sk-container-id-1 input.sk-toggleable__control:checked~label.sk-toggleable__label-arrow:before {content: \"▾\";}#sk-container-id-1 div.sk-estimator input.sk-toggleable__control:checked~label.sk-toggleable__label {background-color: #d4ebff;}#sk-container-id-1 div.sk-label input.sk-toggleable__control:checked~label.sk-toggleable__label {background-color: #d4ebff;}#sk-container-id-1 input.sk-hidden--visually {border: 0;clip: rect(1px 1px 1px 1px);clip: rect(1px, 1px, 1px, 1px);height: 1px;margin: -1px;overflow: hidden;padding: 0;position: absolute;width: 1px;}#sk-container-id-1 div.sk-estimator {font-family: monospace;background-color: #f0f8ff;border: 1px dotted black;border-radius: 0.25em;box-sizing: border-box;margin-bottom: 0.5em;}#sk-container-id-1 div.sk-estimator:hover {background-color: #d4ebff;}#sk-container-id-1 div.sk-parallel-item::after {content: \"\";width: 100%;border-bottom: 1px solid gray;flex-grow: 1;}#sk-container-id-1 div.sk-label:hover label.sk-toggleable__label {background-color: #d4ebff;}#sk-container-id-1 div.sk-serial::before {content: \"\";position: absolute;border-left: 1px solid gray;box-sizing: border-box;top: 0;bottom: 0;left: 50%;z-index: 0;}#sk-container-id-1 div.sk-serial {display: flex;flex-direction: column;align-items: center;background-color: white;padding-right: 0.2em;padding-left: 0.2em;position: relative;}#sk-container-id-1 div.sk-item {position: relative;z-index: 1;}#sk-container-id-1 div.sk-parallel {display: flex;align-items: stretch;justify-content: center;background-color: white;position: relative;}#sk-container-id-1 div.sk-item::before, #sk-container-id-1 div.sk-parallel-item::before {content: \"\";position: absolute;border-left: 1px solid gray;box-sizing: border-box;top: 0;bottom: 0;left: 50%;z-index: -1;}#sk-container-id-1 div.sk-parallel-item {display: flex;flex-direction: column;z-index: 1;position: relative;background-color: white;}#sk-container-id-1 div.sk-parallel-item:first-child::after {align-self: flex-end;width: 50%;}#sk-container-id-1 div.sk-parallel-item:last-child::after {align-self: flex-start;width: 50%;}#sk-container-id-1 div.sk-parallel-item:only-child::after {width: 0;}#sk-container-id-1 div.sk-dashed-wrapped {border: 1px dashed gray;margin: 0 0.4em 0.5em 0.4em;box-sizing: border-box;padding-bottom: 0.4em;background-color: white;}#sk-container-id-1 div.sk-label label {font-family: monospace;font-weight: bold;display: inline-block;line-height: 1.2em;}#sk-container-id-1 div.sk-label-container {text-align: center;}#sk-container-id-1 div.sk-container {/* jupyter's `normalize.less` sets `[hidden] { display: none; }` but bootstrap.min.css set `[hidden] { display: none !important; }` so we also need the `!important` here to be able to override the default hidden behavior on the sphinx rendered scikit-learn.org. See: https://github.com/scikit-learn/scikit-learn/issues/21755 */display: inline-block !important;position: relative;}#sk-container-id-1 div.sk-text-repr-fallback {display: none;}</style><div id=\"sk-container-id-1\" class=\"sk-top-container\"><div class=\"sk-text-repr-fallback\"><pre>LogisticRegression()</pre><b>In a Jupyter environment, please rerun this cell to show the HTML representation or trust the notebook. <br />On GitHub, the HTML representation is unable to render, please try loading this page with nbviewer.org.</b></div><div class=\"sk-container\" hidden><div class=\"sk-item\"><div class=\"sk-estimator sk-toggleable\"><input class=\"sk-toggleable__control sk-hidden--visually\" id=\"sk-estimator-id-1\" type=\"checkbox\" checked><label for=\"sk-estimator-id-1\" class=\"sk-toggleable__label sk-toggleable__label-arrow\">LogisticRegression</label><div class=\"sk-toggleable__content\"><pre>LogisticRegression()</pre></div></div></div></div></div>"
      ],
      "text/plain": [
       "LogisticRegression()"
      ]
     },
     "execution_count": 35,
     "metadata": {},
     "output_type": "execute_result"
    }
   ],
   "source": [
    "model=LogisticRegression()\n",
    "model.fit(X_train, Y_train)"
   ]
  },
  {
   "cell_type": "code",
   "execution_count": 36,
   "id": "ca161ed4",
   "metadata": {},
   "outputs": [
    {
     "name": "stdout",
     "output_type": "stream",
     "text": [
      "[1 1 0 0 0 1 0 1 1 0 0 1 1 0 1 1 0 0 1 1 0 0 0 1 0 1 0 1 1 1 1 0 1 0 0 1 0\n",
      " 1 0 1 1 1 0 0 1 0 1 1 1 0 0 0 0 0 1 0 0 0 1 1 0 0 0 1 0 1 1 1 1]\n"
     ]
    }
   ],
   "source": [
    "X_train_predict = model.predict(X_train)\n",
    "print(X_train_predict)"
   ]
  },
  {
   "cell_type": "code",
   "execution_count": 37,
   "id": "af768503",
   "metadata": {},
   "outputs": [
    {
     "name": "stdout",
     "output_type": "stream",
     "text": [
      "Accuracy score of trainig data: 1.0\n"
     ]
    }
   ],
   "source": [
    "training_data_accuracy=accuracy_score(Y_train, X_train_predict)\n",
    "print('Accuracy score of trainig data:',training_data_accuracy )\n"
   ]
  },
  {
   "cell_type": "code",
   "execution_count": 38,
   "id": "dd1075a5",
   "metadata": {},
   "outputs": [
    {
     "name": "stdout",
     "output_type": "stream",
     "text": [
      "[1 0 0 1 0 0 0 0 0 1 1 0 1 1 0 1 1 1]\n"
     ]
    }
   ],
   "source": [
    "X_test_predict=model.predict(X_test)\n",
    "print(X_test_predict)"
   ]
  },
  {
   "cell_type": "code",
   "execution_count": 39,
   "id": "32555b7c",
   "metadata": {},
   "outputs": [
    {
     "name": "stdout",
     "output_type": "stream",
     "text": [
      "Accuracy score of test data: 1.0\n"
     ]
    }
   ],
   "source": [
    "test_data_accuracy=accuracy_score(Y_test, X_test_predict)\n",
    "print('Accuracy score of test data:',test_data_accuracy )"
   ]
  },
  {
   "cell_type": "code",
   "execution_count": 40,
   "id": "3756792f",
   "metadata": {},
   "outputs": [
    {
     "name": "stdout",
     "output_type": "stream",
     "text": [
      "[[34  0]\n",
      " [ 0 35]]\n"
     ]
    }
   ],
   "source": [
    "print(confusion_matrix(Y_train,X_train_predict))"
   ]
  },
  {
   "cell_type": "code",
   "execution_count": 41,
   "id": "a7e6a631",
   "metadata": {},
   "outputs": [
    {
     "name": "stdout",
     "output_type": "stream",
     "text": [
      "              precision    recall  f1-score   support\n",
      "\n",
      "           0       1.00      1.00      1.00        34\n",
      "           1       1.00      1.00      1.00        35\n",
      "\n",
      "    accuracy                           1.00        69\n",
      "   macro avg       1.00      1.00      1.00        69\n",
      "weighted avg       1.00      1.00      1.00        69\n",
      "\n"
     ]
    }
   ],
   "source": [
    "print(classification_report(Y_train,X_train_predict))"
   ]
  },
  {
   "cell_type": "code",
   "execution_count": null,
   "id": "d9c10b67",
   "metadata": {},
   "outputs": [],
   "source": []
  }
 ],
 "metadata": {
  "kernelspec": {
   "display_name": "Python 3 (ipykernel)",
   "language": "python",
   "name": "python3"
  },
  "language_info": {
   "codemirror_mode": {
    "name": "ipython",
    "version": 3
   },
   "file_extension": ".py",
   "mimetype": "text/x-python",
   "name": "python",
   "nbconvert_exporter": "python",
   "pygments_lexer": "ipython3",
   "version": "3.11.5"
  }
 },
 "nbformat": 4,
 "nbformat_minor": 5
}
